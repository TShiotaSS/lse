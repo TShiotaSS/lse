{
 "cells": [
  {
   "cell_type": "code",
   "execution_count": 1,
   "id": "5e082192-cdef-480d-b919-2ac10d790c83",
   "metadata": {},
   "outputs": [],
   "source": [
    "a = {\"a\":1, \"b\":2, \"c\" :3}"
   ]
  },
  {
   "cell_type": "code",
   "execution_count": 6,
   "id": "67d29c0a-d6a2-4aad-9dba-df29a3ad56bd",
   "metadata": {},
   "outputs": [
    {
     "name": "stdout",
     "output_type": "stream",
     "text": [
      "('a', 1)\n",
      "('b', 2)\n",
      "('c', 3)\n"
     ]
    }
   ],
   "source": [
    "for i in a.items():\n",
    "    print(i)"
   ]
  },
  {
   "cell_type": "code",
   "execution_count": 7,
   "id": "24c0e66e-d439-47a5-834f-ca1c201599a4",
   "metadata": {},
   "outputs": [],
   "source": [
    "a, b, *c = 1, 2, 3, 4, 5"
   ]
  },
  {
   "cell_type": "code",
   "execution_count": 8,
   "id": "7f59795f-43d7-43b2-ab55-5cdee0d50d1e",
   "metadata": {},
   "outputs": [
    {
     "data": {
      "text/plain": [
       "1"
      ]
     },
     "execution_count": 8,
     "metadata": {},
     "output_type": "execute_result"
    }
   ],
   "source": [
    "a"
   ]
  },
  {
   "cell_type": "code",
   "execution_count": 9,
   "id": "6ad9c795-e6f0-4755-ac11-253a1f834be0",
   "metadata": {},
   "outputs": [
    {
     "data": {
      "text/plain": [
       "2"
      ]
     },
     "execution_count": 9,
     "metadata": {},
     "output_type": "execute_result"
    }
   ],
   "source": [
    "b"
   ]
  },
  {
   "cell_type": "code",
   "execution_count": 17,
   "id": "813a2e07-55a7-42db-86a1-32c72a6df66c",
   "metadata": {},
   "outputs": [
    {
     "data": {
      "text/plain": [
       "list"
      ]
     },
     "execution_count": 17,
     "metadata": {},
     "output_type": "execute_result"
    }
   ],
   "source": [
    "type(c)"
   ]
  },
  {
   "cell_type": "code",
   "execution_count": 34,
   "id": "643f0f7c-64eb-4200-a16e-3d3beccc80ae",
   "metadata": {},
   "outputs": [],
   "source": [
    "def average(*scores):\n",
    "    # ①scoresをそのまま出力\n",
    "    print(scores)\n",
    "    # ②scoresの型を出力\n",
    "    print(type(scores))\n",
    "    \n",
    "    average = sum(scores) / len(scores)\n",
    "    print(\"平均点は\" + str(average) + \"です。\")"
   ]
  },
  {
   "cell_type": "code",
   "execution_count": 35,
   "id": "53f9a847-d4bc-4071-b018-0edfc2eaa464",
   "metadata": {},
   "outputs": [],
   "source": [
    "b = (20, 15, 25, 40, 10)"
   ]
  },
  {
   "cell_type": "code",
   "execution_count": 37,
   "id": "09adcd54-0504-4cdc-9349-3fa013c8bdb6",
   "metadata": {},
   "outputs": [
    {
     "name": "stdout",
     "output_type": "stream",
     "text": [
      "(20, 15, 25, 40, 10)\n",
      "<class 'tuple'>\n",
      "平均点は22.0です。\n"
     ]
    }
   ],
   "source": [
    "average(20, 15, 25, 40, 10)"
   ]
  },
  {
   "cell_type": "code",
   "execution_count": 36,
   "id": "89546c9c-3d73-447e-9316-addfae7053e8",
   "metadata": {},
   "outputs": [
    {
     "name": "stdout",
     "output_type": "stream",
     "text": [
      "(20, 15, 25, 40, 10)\n",
      "<class 'tuple'>\n",
      "平均点は22.0です。\n"
     ]
    }
   ],
   "source": [
    "average(*b)"
   ]
  },
  {
   "cell_type": "code",
   "execution_count": 42,
   "id": "9dbc9856-25a7-4a1b-970e-269be1693dfb",
   "metadata": {},
   "outputs": [],
   "source": [
    "a,*score = 20, 15, 25, 40, 10"
   ]
  },
  {
   "cell_type": "code",
   "execution_count": 43,
   "id": "82a1391b-223e-49f6-975d-fb97de54f50a",
   "metadata": {},
   "outputs": [
    {
     "data": {
      "text/plain": [
       "20"
      ]
     },
     "execution_count": 43,
     "metadata": {},
     "output_type": "execute_result"
    }
   ],
   "source": [
    "a"
   ]
  },
  {
   "cell_type": "code",
   "execution_count": 44,
   "id": "cfef3d8c-f127-4cd6-a164-eb5798f01aa2",
   "metadata": {},
   "outputs": [
    {
     "data": {
      "text/plain": [
       "[15, 25, 40, 10]"
      ]
     },
     "execution_count": 44,
     "metadata": {},
     "output_type": "execute_result"
    }
   ],
   "source": [
    "score"
   ]
  },
  {
   "cell_type": "code",
   "execution_count": 40,
   "id": "6778f623-34e6-4811-bc24-0c129759fc5d",
   "metadata": {},
   "outputs": [
    {
     "data": {
      "text/plain": [
       "(20, 15, 25, 40, 10)"
      ]
     },
     "execution_count": 40,
     "metadata": {},
     "output_type": "execute_result"
    }
   ],
   "source": [
    "score"
   ]
  },
  {
   "cell_type": "code",
   "execution_count": 45,
   "id": "ac177bc9-5b59-46e0-a147-4e901c65ec0d",
   "metadata": {},
   "outputs": [],
   "source": [
    "import secrets"
   ]
  },
  {
   "cell_type": "code",
   "execution_count": 53,
   "id": "df9cae94-056d-45f3-be25-b7290945ad10",
   "metadata": {},
   "outputs": [
    {
     "data": {
      "text/plain": [
       "397"
      ]
     },
     "execution_count": 53,
     "metadata": {},
     "output_type": "execute_result"
    }
   ],
   "source": [
    "secrets.randbits(10)"
   ]
  },
  {
   "cell_type": "code",
   "execution_count": 54,
   "id": "1b123a5f-321b-45c1-b933-354c9dc0ce72",
   "metadata": {},
   "outputs": [
    {
     "data": {
      "text/plain": [
       "1"
      ]
     },
     "execution_count": 54,
     "metadata": {},
     "output_type": "execute_result"
    }
   ],
   "source": [
    "int(True)"
   ]
  },
  {
   "cell_type": "code",
   "execution_count": 55,
   "id": "6afa6e1f-bb4b-4529-8fa7-b2cb1299527b",
   "metadata": {},
   "outputs": [],
   "source": [
    "list01: list[str] = ['abc', 'xyz', 'ABC',5]"
   ]
  },
  {
   "cell_type": "code",
   "execution_count": 56,
   "id": "58249e40-97d5-4c9e-9e5c-17e2859607c0",
   "metadata": {},
   "outputs": [],
   "source": [
    "from datetime import date, timedelta\n",
    "\n",
    "today = date.today()"
   ]
  },
  {
   "cell_type": "code",
   "execution_count": 57,
   "id": "17449b27-7d63-463c-be6f-52b364ead2c5",
   "metadata": {},
   "outputs": [
    {
     "data": {
      "text/plain": [
       "datetime.date(2024, 9, 3)"
      ]
     },
     "execution_count": 57,
     "metadata": {},
     "output_type": "execute_result"
    }
   ],
   "source": [
    "today"
   ]
  },
  {
   "cell_type": "code",
   "execution_count": 58,
   "id": "54aa91a1-1ac1-4bf2-b279-f46af93567b3",
   "metadata": {},
   "outputs": [
    {
     "data": {
      "text/plain": [
       "datetime.timedelta(days=-14)"
      ]
     },
     "execution_count": 58,
     "metadata": {},
     "output_type": "execute_result"
    }
   ],
   "source": [
    "timedelta(weeks=-2)"
   ]
  },
  {
   "cell_type": "code",
   "execution_count": 60,
   "id": "f7c78165-7533-4517-a217-f15b1674f674",
   "metadata": {},
   "outputs": [
    {
     "data": {
      "text/plain": [
       "datetime.date(2024, 8, 20)"
      ]
     },
     "execution_count": 60,
     "metadata": {},
     "output_type": "execute_result"
    }
   ],
   "source": [
    "today + timedelta(weeks=-2)"
   ]
  },
  {
   "cell_type": "code",
   "execution_count": 61,
   "id": "0452a907-71ca-4ed3-a71d-868fe4d9a22e",
   "metadata": {},
   "outputs": [],
   "source": [
    "from collections import defaultdict"
   ]
  },
  {
   "cell_type": "code",
   "execution_count": 71,
   "id": "597a4d04-a88a-452f-9b12-e7626a477a90",
   "metadata": {},
   "outputs": [],
   "source": [
    "a = defaultdict(dict)"
   ]
  },
  {
   "cell_type": "code",
   "execution_count": 72,
   "id": "036e632f-0299-4e9d-8bb1-e7a3f0862080",
   "metadata": {},
   "outputs": [
    {
     "data": {
      "text/plain": [
       "{}"
      ]
     },
     "execution_count": 72,
     "metadata": {},
     "output_type": "execute_result"
    }
   ],
   "source": [
    "a[\"d\"]"
   ]
  },
  {
   "cell_type": "code",
   "execution_count": 91,
   "id": "564e6d35-a998-4f67-bffb-12708454f0bf",
   "metadata": {},
   "outputs": [
    {
     "name": "stdout",
     "output_type": "stream",
     "text": [
      "Package                           Version              Editable project location\n",
      "--------------------------------- -------------------- ------------------------------------------\n",
      "absl-py                           2.1.0\n",
      "anyio                             4.4.0\n",
      "argon2-cffi                       23.1.0\n",
      "argon2-cffi-bindings              21.2.0\n",
      "arrow                             1.3.0\n",
      "ase                               3.23.0\n",
      "asttokens                         2.4.1\n",
      "astunparse                        1.6.3\n",
      "async-lru                         2.0.4\n",
      "attrs                             24.2.0\n",
      "babel                             2.16.0\n",
      "beautifulsoup4                    4.12.3\n",
      "black                             24.8.0\n",
      "bleach                            6.1.0\n",
      "build                             1.2.1\n",
      "CacheControl                      0.14.0\n",
      "cachetools                        5.5.0\n",
      "certifi                           2019.11.28\n",
      "cffi                              1.17.0\n",
      "chardet                           3.0.4\n",
      "charset-normalizer                3.3.2\n",
      "cleo                              2.1.0\n",
      "click                             8.1.7\n",
      "colorama                          0.4.6\n",
      "comm                              0.2.2\n",
      "contourpy                         1.3.0\n",
      "crashtest                         0.4.1\n",
      "cryptography                      43.0.0\n",
      "cycler                            0.12.1\n",
      "dbus-python                       1.2.16\n",
      "debugpy                           1.8.5\n",
      "decorator                         5.1.1\n",
      "defusedxml                        0.7.1\n",
      "distlib                           0.3.8\n",
      "dulwich                           0.21.7\n",
      "emmet-core                        0.60.2\n",
      "et-xmlfile                        1.1.0\n",
      "exceptiongroup                    1.2.2\n",
      "executing                         2.1.0\n",
      "fastjsonschema                    2.20.0\n",
      "filelock                          3.15.4\n",
      "flatbuffers                       1.12\n",
      "fonttools                         4.53.1\n",
      "fqdn                              1.5.1\n",
      "gast                              0.4.0\n",
      "gitdb                             4.0.11\n",
      "GitPython                         3.1.43\n",
      "google-auth                       2.34.0\n",
      "google-auth-oauthlib              0.4.6\n",
      "google-pasta                      0.2.0\n",
      "graphviz                          0.20.3\n",
      "grpcio                            1.66.1\n",
      "h11                               0.14.0\n",
      "h5py                              3.11.0\n",
      "httpcore                          1.0.5\n",
      "httpx                             0.27.2\n",
      "idna                              2.8\n",
      "import-ipynb                      0.1.4\n",
      "importlib_metadata                8.4.0\n",
      "importlib_resources               6.4.4\n",
      "iniconfig                         2.0.0\n",
      "installer                         0.7.0\n",
      "ipykernel                         6.29.5\n",
      "ipython                           8.18.1\n",
      "ipython-genutils                  0.2.0\n",
      "ipywidgets                        8.1.5\n",
      "isoduration                       20.11.0\n",
      "japanize-matplotlib               1.1.3\n",
      "jaraco.classes                    3.4.0\n",
      "jedi                              0.19.1\n",
      "jeepney                           0.8.0\n",
      "Jinja2                            3.1.4\n",
      "joblib                            1.4.2\n",
      "json5                             0.9.25\n",
      "jsonpointer                       3.0.0\n",
      "jsonschema                        4.23.0\n",
      "jsonschema-specifications         2023.12.1\n",
      "jupyter_client                    8.6.2\n",
      "jupyter_core                      5.7.2\n",
      "jupyter-events                    0.10.0\n",
      "jupyter-lsp                       2.2.5\n",
      "jupyter_server                    2.14.2\n",
      "jupyter-server-mathjax            0.2.6\n",
      "jupyter_server_terminals          0.5.3\n",
      "jupyterlab                        4.2.5\n",
      "jupyterlab_code_formatter         3.0.2\n",
      "jupyterlab_git                    0.50.1\n",
      "jupyterlab_pygments               0.3.0\n",
      "jupyterlab_server                 2.27.3\n",
      "jupyterlab_widgets                3.0.13\n",
      "keras                             2.9.0\n",
      "Keras-Preprocessing               1.1.2\n",
      "keyring                           24.3.1\n",
      "kiwisolver                        1.4.5\n",
      "latexcodec                        3.0.0\n",
      "lckr_jupyterlab_variableinspector 3.2.2\n",
      "libclang                          18.1.1\n",
      "lmdb                              1.5.1\n",
      "m3gnet                            0.2.4                /workspace/scripts/m3gnet_each_atom_energy\n",
      "Markdown                          3.7\n",
      "markdown-it-py                    3.0.0\n",
      "MarkupSafe                        2.1.5\n",
      "matplotlib                        3.9.2\n",
      "matplotlib-inline                 0.1.7\n",
      "mdurl                             0.1.2\n",
      "mistune                           3.0.2\n",
      "ml-dtypes                         0.4.0\n",
      "mlxtend                           0.23.1\n",
      "monty                             2024.7.30\n",
      "more-itertools                    10.4.0\n",
      "mp-api                            0.33.3\n",
      "mpmath                            1.3.0\n",
      "msgpack                           1.0.8\n",
      "mypy-extensions                   1.0.0\n",
      "namex                             0.0.8\n",
      "nbclient                          0.10.0\n",
      "nbconvert                         7.16.4\n",
      "nbdime                            4.0.1\n",
      "nbformat                          5.10.4\n",
      "nest-asyncio                      1.6.0\n",
      "networkx                          3.2.1\n",
      "nglview                           3.1.2\n",
      "notebook                          7.2.2\n",
      "notebook_shim                     0.2.4\n",
      "numpy                             1.26.4\n",
      "oauthlib                          3.2.2\n",
      "opencv-python                     4.10.0.84\n",
      "openpyxl                          3.1.5\n",
      "opt-einsum                        3.3.0\n",
      "optree                            0.12.1\n",
      "overrides                         7.7.0\n",
      "packaging                         24.1\n",
      "palettable                        3.3.3\n",
      "pandas                            2.2.2\n",
      "pandocfilters                     1.5.1\n",
      "parso                             0.8.4\n",
      "pathspec                          0.12.1\n",
      "pexpect                           4.9.0\n",
      "pillow                            10.4.0\n",
      "pip                               24.2\n",
      "pkginfo                           1.11.1\n",
      "platformdirs                      4.2.2\n",
      "plotly                            5.24.0\n",
      "pluggy                            1.5.0\n",
      "poetry                            1.8.3\n",
      "poetry-core                       1.9.0\n",
      "poetry-plugin-export              1.8.0\n",
      "prometheus_client                 0.20.0\n",
      "prompt_toolkit                    3.0.47\n",
      "protobuf                          3.19.6\n",
      "psutil                            6.0.0\n",
      "ptyprocess                        0.7.0\n",
      "pure_eval                         0.2.3\n",
      "pyasn1                            0.6.0\n",
      "pyasn1_modules                    0.4.0\n",
      "pybtex                            0.24.0\n",
      "pycparser                         2.22\n",
      "pydantic                          1.10.18\n",
      "Pygments                          2.18.0\n",
      "PyGObject                         3.36.0\n",
      "pymatgen                          2023.7.11\n",
      "pyparsing                         3.1.4\n",
      "pyproject_hooks                   1.1.0\n",
      "pytest                            8.3.2\n",
      "python-apt                        2.0.0+ubuntu0.20.4.8\n",
      "python-dateutil                   2.9.0.post0\n",
      "python-json-logger                2.0.7\n",
      "pytz                              2024.1\n",
      "PyYAML                            6.0.2\n",
      "pyzmq                             26.2.0\n",
      "rapidfuzz                         3.9.6\n",
      "referencing                       0.35.1\n",
      "requests                          2.32.3\n",
      "requests-oauthlib                 2.0.0\n",
      "requests-toolbelt                 1.0.0\n",
      "requests-unixsocket               0.2.0\n",
      "rfc3339-validator                 0.1.4\n",
      "rfc3986-validator                 0.1.1\n",
      "rich                              13.8.0\n",
      "rmsd                              1.5.1\n",
      "rpds-py                           0.20.0\n",
      "rsa                               4.9\n",
      "ruamel.yaml                       0.18.6\n",
      "ruamel.yaml.clib                  0.2.8\n",
      "scikit-learn                      1.5.1\n",
      "scipy                             1.13.1\n",
      "seaborn                           0.13.2\n",
      "SecretStorage                     3.3.3\n",
      "Send2Trash                        1.8.3\n",
      "setuptools                        45.2.0\n",
      "shellingham                       1.5.4\n",
      "six                               1.14.0\n",
      "smmap                             5.0.1\n",
      "sniffio                           1.3.1\n",
      "soupsieve                         2.6\n",
      "spglib                            2.5.0\n",
      "stack-data                        0.6.3\n",
      "sympy                             1.13.2\n",
      "tabulate                          0.9.0\n",
      "tenacity                          9.0.0\n",
      "tensorboard                       2.9.1\n",
      "tensorboard-data-server           0.6.1\n",
      "tensorboard-plugin-wit            1.8.1\n",
      "tensorflow                        2.9.3\n",
      "tensorflow-estimator              2.9.0\n",
      "tensorflow-io-gcs-filesystem      0.37.1\n",
      "termcolor                         2.4.0\n",
      "terminado                         0.18.1\n",
      "threadpoolctl                     3.5.0\n",
      "tinycss2                          1.3.0\n",
      "tomli                             2.0.1\n",
      "tomlkit                           0.13.2\n",
      "tornado                           6.4.1\n",
      "tqdm                              4.66.5\n",
      "traitlets                         5.14.3\n",
      "trove-classifiers                 2024.7.2\n",
      "types-python-dateutil             2.9.0.20240821\n",
      "typing_extensions                 4.12.2\n",
      "tzdata                            2024.1\n",
      "uncertainties                     3.2.2\n",
      "uri-template                      1.3.0\n",
      "urllib3                           1.25.8\n",
      "virtualenv                        20.26.3\n",
      "wcwidth                           0.2.13\n",
      "webcolors                         24.8.0\n",
      "webencodings                      0.5.1\n",
      "websocket-client                  1.8.0\n",
      "Werkzeug                          3.0.4\n",
      "wheel                             0.34.2\n",
      "widgetsnbextension                4.0.13\n",
      "wrapt                             1.16.0\n",
      "zipp                              3.20.1\n"
     ]
    }
   ],
   "source": [
    "!pip list"
   ]
  },
  {
   "cell_type": "code",
   "execution_count": 73,
   "id": "6c5bb04a-8104-4004-a58b-e473964bf176",
   "metadata": {},
   "outputs": [],
   "source": [
    "import itertools"
   ]
  },
  {
   "cell_type": "code",
   "execution_count": 90,
   "id": "f6776ab2-a884-4342-b43e-c124c770c525",
   "metadata": {},
   "outputs": [
    {
     "data": {
      "text/plain": [
       "[('A', 'A', 'A'),\n",
       " ('A', 'A', 'B'),\n",
       " ('A', 'A', 'C'),\n",
       " ('A', 'B', 'B'),\n",
       " ('A', 'B', 'C'),\n",
       " ('A', 'C', 'C'),\n",
       " ('B', 'B', 'B'),\n",
       " ('B', 'B', 'C'),\n",
       " ('B', 'C', 'C'),\n",
       " ('C', 'C', 'C')]"
      ]
     },
     "execution_count": 90,
     "metadata": {},
     "output_type": "execute_result"
    }
   ],
   "source": [
    "[i for i in itertools.combinations_with_replacement('ABC', 3)]"
   ]
  },
  {
   "cell_type": "code",
   "execution_count": 77,
   "id": "d2e22bd1-ca05-484c-8e34-723c2b3bed32",
   "metadata": {},
   "outputs": [
    {
     "data": {
      "text/plain": [
       "[('A', 'B'), ('B', 'A')]"
      ]
     },
     "execution_count": 77,
     "metadata": {},
     "output_type": "execute_result"
    }
   ],
   "source": [
    "[i for i in itertools.permutations('AB', 2)]"
   ]
  },
  {
   "cell_type": "code",
   "execution_count": 79,
   "id": "62460d40-9598-431f-865e-32eaea93899b",
   "metadata": {},
   "outputs": [
    {
     "name": "stdout",
     "output_type": "stream",
     "text": [
      "{\"name\": \"Python\", \"pub\": \"2000-12-01T00:00:00\"}\n"
     ]
    }
   ],
   "source": [
    "from datetime import datetime\n",
    "import json\n",
    "\n",
    "book = {\"name\": \"Python\", \"pub\": datetime(2000, 12, 1)}\n",
    "\n",
    "def func(obj):\n",
    "    if isinstance(obj, datetime):\n",
    "        return obj.isoformat()\n",
    "\n",
    "print(json.dumps(book, default=func))"
   ]
  },
  {
   "cell_type": "code",
   "execution_count": 80,
   "id": "613fd158-cdd7-4230-994c-0883e0b9f41c",
   "metadata": {},
   "outputs": [
    {
     "data": {
      "text/plain": [
       "'{\"name\": \"Python\", \"pub\": \"2000-12-01T00:00:00\"}'"
      ]
     },
     "execution_count": 80,
     "metadata": {},
     "output_type": "execute_result"
    }
   ],
   "source": [
    "json.dumps(book, default=func)"
   ]
  },
  {
   "cell_type": "code",
   "execution_count": 81,
   "id": "eb5a8d19-1d2e-4976-9e57-68d42a732e25",
   "metadata": {},
   "outputs": [],
   "source": [
    "import requests"
   ]
  },
  {
   "cell_type": "code",
   "execution_count": 82,
   "id": "5255724a-80fc-4095-926e-dd271df84905",
   "metadata": {},
   "outputs": [],
   "source": [
    "from urllib import parse"
   ]
  },
  {
   "cell_type": "code",
   "execution_count": 83,
   "id": "6c5c47d3-19fa-4fb8-a97e-139782dbc0f0",
   "metadata": {},
   "outputs": [
    {
     "data": {
      "text/plain": [
       "ParseResult(scheme='https', netloc='www.google.co.jp', path='/', params='', query='', fragment='')"
      ]
     },
     "execution_count": 83,
     "metadata": {},
     "output_type": "execute_result"
    }
   ],
   "source": [
    "parse.urlparse(\"https://www.google.co.jp/\")"
   ]
  },
  {
   "cell_type": "code",
   "execution_count": 84,
   "id": "74e1b7b4-8b5c-4d9d-981f-7a55e0234e81",
   "metadata": {},
   "outputs": [
    {
     "ename": "TypeError",
     "evalue": "unsupported operand type(s) for +: 'NoneType' and 'int'",
     "output_type": "error",
     "traceback": [
      "\u001b[0;31m---------------------------------------------------------------------------\u001b[0m",
      "\u001b[0;31mTypeError\u001b[0m                                 Traceback (most recent call last)",
      "Cell \u001b[0;32mIn[84], line 1\u001b[0m\n\u001b[0;32m----> 1\u001b[0m \u001b[38;5;28;43;01mNone\u001b[39;49;00m\u001b[43m \u001b[49m\u001b[38;5;241;43m+\u001b[39;49m\u001b[43m \u001b[49m\u001b[38;5;241;43m2\u001b[39;49m\n",
      "\u001b[0;31mTypeError\u001b[0m: unsupported operand type(s) for +: 'NoneType' and 'int'"
     ]
    }
   ],
   "source": [
    "None + 2"
   ]
  },
  {
   "cell_type": "code",
   "execution_count": 85,
   "id": "f9b1ebe6-dde4-4592-8510-b434671447b6",
   "metadata": {},
   "outputs": [],
   "source": [
    "import numpy as np"
   ]
  },
  {
   "cell_type": "code",
   "execution_count": 86,
   "id": "d0ae323a-36de-4ec5-8ce2-f7e7ba71daed",
   "metadata": {},
   "outputs": [
    {
     "data": {
      "text/plain": [
       "nan"
      ]
     },
     "execution_count": 86,
     "metadata": {},
     "output_type": "execute_result"
    }
   ],
   "source": [
    "np.nan + 2"
   ]
  },
  {
   "cell_type": "code",
   "execution_count": 87,
   "id": "a2b46323-cec0-4657-a307-ee785a21c81e",
   "metadata": {},
   "outputs": [],
   "source": [
    "total_num = 459\n",
    "element_num = 5"
   ]
  },
  {
   "cell_type": "code",
   "execution_count": 88,
   "id": "6b0295a3-ea46-4c7c-bd70-4e8c9c669839",
   "metadata": {},
   "outputs": [
    {
     "data": {
      "text/plain": [
       "91"
      ]
     },
     "execution_count": 88,
     "metadata": {},
     "output_type": "execute_result"
    }
   ],
   "source": [
    "int(total_num/element_num)"
   ]
  },
  {
   "cell_type": "code",
   "execution_count": 89,
   "id": "738cc680-99bd-4ef6-9dea-12c041d26a81",
   "metadata": {},
   "outputs": [
    {
     "name": "stdout",
     "output_type": "stream",
     "text": [
      "Package                           Version              Editable project location\n",
      "--------------------------------- -------------------- ------------------------------------------\n",
      "absl-py                           2.1.0\n",
      "anyio                             4.4.0\n",
      "argon2-cffi                       23.1.0\n",
      "argon2-cffi-bindings              21.2.0\n",
      "arrow                             1.3.0\n",
      "ase                               3.23.0\n",
      "asttokens                         2.4.1\n",
      "astunparse                        1.6.3\n",
      "async-lru                         2.0.4\n",
      "attrs                             24.2.0\n",
      "babel                             2.16.0\n",
      "beautifulsoup4                    4.12.3\n",
      "black                             24.8.0\n",
      "bleach                            6.1.0\n",
      "build                             1.2.1\n",
      "CacheControl                      0.14.0\n",
      "cachetools                        5.5.0\n",
      "certifi                           2019.11.28\n",
      "cffi                              1.17.0\n",
      "chardet                           3.0.4\n",
      "charset-normalizer                3.3.2\n",
      "cleo                              2.1.0\n",
      "click                             8.1.7\n",
      "colorama                          0.4.6\n",
      "comm                              0.2.2\n",
      "contourpy                         1.3.0\n",
      "crashtest                         0.4.1\n",
      "cryptography                      43.0.0\n",
      "cycler                            0.12.1\n",
      "dbus-python                       1.2.16\n",
      "debugpy                           1.8.5\n",
      "decorator                         5.1.1\n",
      "defusedxml                        0.7.1\n",
      "distlib                           0.3.8\n",
      "dulwich                           0.21.7\n",
      "emmet-core                        0.60.2\n",
      "et-xmlfile                        1.1.0\n",
      "exceptiongroup                    1.2.2\n",
      "executing                         2.1.0\n",
      "fastjsonschema                    2.20.0\n",
      "filelock                          3.15.4\n",
      "flatbuffers                       1.12\n",
      "fonttools                         4.53.1\n",
      "fqdn                              1.5.1\n",
      "gast                              0.4.0\n",
      "gitdb                             4.0.11\n",
      "GitPython                         3.1.43\n",
      "google-auth                       2.34.0\n",
      "google-auth-oauthlib              0.4.6\n",
      "google-pasta                      0.2.0\n",
      "graphviz                          0.20.3\n",
      "grpcio                            1.66.1\n",
      "h11                               0.14.0\n",
      "h5py                              3.11.0\n",
      "httpcore                          1.0.5\n",
      "httpx                             0.27.2\n",
      "idna                              2.8\n",
      "import-ipynb                      0.1.4\n",
      "importlib_metadata                8.4.0\n",
      "importlib_resources               6.4.4\n",
      "iniconfig                         2.0.0\n",
      "installer                         0.7.0\n",
      "ipykernel                         6.29.5\n",
      "ipython                           8.18.1\n",
      "ipython-genutils                  0.2.0\n",
      "ipywidgets                        8.1.5\n",
      "isoduration                       20.11.0\n",
      "japanize-matplotlib               1.1.3\n",
      "jaraco.classes                    3.4.0\n",
      "jedi                              0.19.1\n",
      "jeepney                           0.8.0\n",
      "Jinja2                            3.1.4\n",
      "joblib                            1.4.2\n",
      "json5                             0.9.25\n",
      "jsonpointer                       3.0.0\n",
      "jsonschema                        4.23.0\n",
      "jsonschema-specifications         2023.12.1\n",
      "jupyter_client                    8.6.2\n",
      "jupyter_core                      5.7.2\n",
      "jupyter-events                    0.10.0\n",
      "jupyter-lsp                       2.2.5\n",
      "jupyter_server                    2.14.2\n",
      "jupyter-server-mathjax            0.2.6\n",
      "jupyter_server_terminals          0.5.3\n",
      "jupyterlab                        4.2.5\n",
      "jupyterlab_code_formatter         3.0.2\n",
      "jupyterlab_git                    0.50.1\n",
      "jupyterlab_pygments               0.3.0\n",
      "jupyterlab_server                 2.27.3\n",
      "jupyterlab_widgets                3.0.13\n",
      "keras                             2.9.0\n",
      "Keras-Preprocessing               1.1.2\n",
      "keyring                           24.3.1\n",
      "kiwisolver                        1.4.5\n",
      "latexcodec                        3.0.0\n",
      "lckr_jupyterlab_variableinspector 3.2.2\n",
      "libclang                          18.1.1\n",
      "lmdb                              1.5.1\n",
      "m3gnet                            0.2.4                /workspace/scripts/m3gnet_each_atom_energy\n",
      "Markdown                          3.7\n",
      "markdown-it-py                    3.0.0\n",
      "MarkupSafe                        2.1.5\n",
      "matplotlib                        3.9.2\n",
      "matplotlib-inline                 0.1.7\n",
      "mdurl                             0.1.2\n",
      "mistune                           3.0.2\n",
      "ml-dtypes                         0.4.0\n",
      "mlxtend                           0.23.1\n",
      "monty                             2024.7.30\n",
      "more-itertools                    10.4.0\n",
      "mp-api                            0.33.3\n",
      "mpmath                            1.3.0\n",
      "msgpack                           1.0.8\n",
      "mypy-extensions                   1.0.0\n",
      "namex                             0.0.8\n",
      "nbclient                          0.10.0\n",
      "nbconvert                         7.16.4\n",
      "nbdime                            4.0.1\n",
      "nbformat                          5.10.4\n",
      "nest-asyncio                      1.6.0\n",
      "networkx                          3.2.1\n",
      "nglview                           3.1.2\n",
      "notebook                          7.2.2\n",
      "notebook_shim                     0.2.4\n",
      "numpy                             1.26.4\n",
      "oauthlib                          3.2.2\n",
      "opencv-python                     4.10.0.84\n",
      "openpyxl                          3.1.5\n",
      "opt-einsum                        3.3.0\n",
      "optree                            0.12.1\n",
      "overrides                         7.7.0\n",
      "packaging                         24.1\n",
      "palettable                        3.3.3\n",
      "pandas                            2.2.2\n",
      "pandocfilters                     1.5.1\n",
      "parso                             0.8.4\n",
      "pathspec                          0.12.1\n",
      "pexpect                           4.9.0\n",
      "pillow                            10.4.0\n",
      "pip                               24.2\n",
      "pkginfo                           1.11.1\n",
      "platformdirs                      4.2.2\n",
      "plotly                            5.24.0\n",
      "pluggy                            1.5.0\n",
      "poetry                            1.8.3\n",
      "poetry-core                       1.9.0\n",
      "poetry-plugin-export              1.8.0\n",
      "prometheus_client                 0.20.0\n",
      "prompt_toolkit                    3.0.47\n",
      "protobuf                          3.19.6\n",
      "psutil                            6.0.0\n",
      "ptyprocess                        0.7.0\n",
      "pure_eval                         0.2.3\n",
      "pyasn1                            0.6.0\n",
      "pyasn1_modules                    0.4.0\n",
      "pybtex                            0.24.0\n",
      "pycparser                         2.22\n",
      "pydantic                          1.10.18\n",
      "Pygments                          2.18.0\n",
      "PyGObject                         3.36.0\n",
      "pymatgen                          2023.7.11\n",
      "pyparsing                         3.1.4\n",
      "pyproject_hooks                   1.1.0\n",
      "pytest                            8.3.2\n",
      "python-apt                        2.0.0+ubuntu0.20.4.8\n",
      "python-dateutil                   2.9.0.post0\n",
      "python-json-logger                2.0.7\n",
      "pytz                              2024.1\n",
      "PyYAML                            6.0.2\n",
      "pyzmq                             26.2.0\n",
      "rapidfuzz                         3.9.6\n",
      "referencing                       0.35.1\n",
      "requests                          2.32.3\n",
      "requests-oauthlib                 2.0.0\n",
      "requests-toolbelt                 1.0.0\n",
      "requests-unixsocket               0.2.0\n",
      "rfc3339-validator                 0.1.4\n",
      "rfc3986-validator                 0.1.1\n",
      "rich                              13.8.0\n",
      "rmsd                              1.5.1\n",
      "rpds-py                           0.20.0\n",
      "rsa                               4.9\n",
      "ruamel.yaml                       0.18.6\n",
      "ruamel.yaml.clib                  0.2.8\n",
      "scikit-learn                      1.5.1\n",
      "scipy                             1.13.1\n",
      "seaborn                           0.13.2\n",
      "SecretStorage                     3.3.3\n",
      "Send2Trash                        1.8.3\n",
      "setuptools                        45.2.0\n",
      "shellingham                       1.5.4\n",
      "six                               1.14.0\n",
      "smmap                             5.0.1\n",
      "sniffio                           1.3.1\n",
      "soupsieve                         2.6\n",
      "spglib                            2.5.0\n",
      "stack-data                        0.6.3\n",
      "sympy                             1.13.2\n",
      "tabulate                          0.9.0\n",
      "tenacity                          9.0.0\n",
      "tensorboard                       2.9.1\n",
      "tensorboard-data-server           0.6.1\n",
      "tensorboard-plugin-wit            1.8.1\n",
      "tensorflow                        2.9.3\n",
      "tensorflow-estimator              2.9.0\n",
      "tensorflow-io-gcs-filesystem      0.37.1\n",
      "termcolor                         2.4.0\n",
      "terminado                         0.18.1\n",
      "threadpoolctl                     3.5.0\n",
      "tinycss2                          1.3.0\n",
      "tomli                             2.0.1\n",
      "tomlkit                           0.13.2\n",
      "tornado                           6.4.1\n",
      "tqdm                              4.66.5\n",
      "traitlets                         5.14.3\n",
      "trove-classifiers                 2024.7.2\n",
      "types-python-dateutil             2.9.0.20240821\n",
      "typing_extensions                 4.12.2\n",
      "tzdata                            2024.1\n",
      "uncertainties                     3.2.2\n",
      "uri-template                      1.3.0\n",
      "urllib3                           1.25.8\n",
      "virtualenv                        20.26.3\n",
      "wcwidth                           0.2.13\n",
      "webcolors                         24.8.0\n",
      "webencodings                      0.5.1\n",
      "websocket-client                  1.8.0\n",
      "Werkzeug                          3.0.4\n",
      "wheel                             0.34.2\n",
      "widgetsnbextension                4.0.13\n",
      "wrapt                             1.16.0\n",
      "zipp                              3.20.1\n"
     ]
    }
   ],
   "source": [
    "!pip list"
   ]
  },
  {
   "cell_type": "code",
   "execution_count": null,
   "id": "0f3d5407-e980-42d5-8b1a-f7661b3e5eea",
   "metadata": {},
   "outputs": [],
   "source": []
  }
 ],
 "metadata": {
  "kernelspec": {
   "display_name": "Python 3 (ipykernel)",
   "language": "python",
   "name": "python3"
  },
  "language_info": {
   "codemirror_mode": {
    "name": "ipython",
    "version": 3
   },
   "file_extension": ".py",
   "mimetype": "text/x-python",
   "name": "python",
   "nbconvert_exporter": "python",
   "pygments_lexer": "ipython3",
   "version": "3.9.5"
  }
 },
 "nbformat": 4,
 "nbformat_minor": 5
}
