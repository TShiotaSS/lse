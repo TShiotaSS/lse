{
 "cells": [
  {
   "cell_type": "markdown",
   "id": "a381cafa-6d38-4f86-a1ed-56f86a2a39c4",
   "metadata": {},
   "source": [
    "# Tutorial\n"
   ]
  },
  {
   "cell_type": "markdown",
   "id": "5c873eae-512d-487d-a43b-70e31c1eea60",
   "metadata": {},
   "source": [
    "%load_ext lab_black"
   ]
  },
  {
   "cell_type": "code",
   "execution_count": 2,
   "id": "09809b0b-b726-45e6-8605-f9d637cf6ef3",
   "metadata": {},
   "outputs": [],
   "source": [
    "from m3gnet.models import M3GNet, M3GNetCalculator, Potential"
   ]
  },
  {
   "cell_type": "code",
   "execution_count": 3,
   "id": "f6f5fa1a-c2d1-45fa-a39d-1c84fe140309",
   "metadata": {},
   "outputs": [
    {
     "name": "stderr",
     "output_type": "stream",
     "text": [
      "2024-09-04 02:13:05.750699: E tensorflow/stream_executor/cuda/cuda_driver.cc:271] failed call to cuInit: UNKNOWN ERROR (34)\n",
      "2024-09-04 02:13:05.750762: I tensorflow/stream_executor/cuda/cuda_diagnostics.cc:163] no NVIDIA GPU device is present: /dev/nvidia0 does not exist\n",
      "2024-09-04 02:13:05.751032: I tensorflow/core/platform/cpu_feature_guard.cc:193] This TensorFlow binary is optimized with oneAPI Deep Neural Network Library (oneDNN) to use the following CPU instructions in performance-critical operations:  AVX2 FMA\n",
      "To enable them in other operations, rebuild TensorFlow with the appropriate compiler flags.\n"
     ]
    }
   ],
   "source": [
    "# Loading Pretrained model\n",
    "# potential = Potential(M3GNet.from_dir(\"/workspace/scripts/m3gnet_each_atom_energy/pretrained/MP-2021.2.8-EFS\"))\n",
    "potential = Potential(M3GNet.load())\n",
    "calculator = M3GNetCalculator(potential=potential, stress_weight=0.01)"
   ]
  },
  {
   "cell_type": "code",
   "execution_count": 4,
   "id": "6cefd906-06b8-4530-9305-ceec4ec16362",
   "metadata": {},
   "outputs": [],
   "source": [
    "# !pip list"
   ]
  },
  {
   "cell_type": "code",
   "execution_count": 5,
   "id": "16df7e48-ed2d-4b6c-9fd3-d491c053b5c7",
   "metadata": {},
   "outputs": [],
   "source": [
    "from pymatgen.io.ase import AseAtomsAdaptor\n",
    "from pymatgen.io.xyz import XYZ"
   ]
  },
  {
   "cell_type": "code",
   "execution_count": 6,
   "id": "32db5f77-47e6-42f8-a478-97f0bd5071c0",
   "metadata": {},
   "outputs": [],
   "source": [
    "xyz = XYZ.from_file(\"../sample_xyz/nicotine.xyz\")\n",
    "nicotine = AseAtomsAdaptor.get_atoms(xyz.all_molecules[0])"
   ]
  },
  {
   "cell_type": "markdown",
   "id": "4c2fdd65-c5e3-4f3e-9cd0-1c4db36c181c",
   "metadata": {},
   "source": [
    "## visualize"
   ]
  },
  {
   "cell_type": "code",
   "execution_count": 7,
   "id": "7fefdc17-9ac8-4350-8373-11076b181b0e",
   "metadata": {},
   "outputs": [
    {
     "data": {
      "application/vnd.jupyter.widget-view+json": {
       "model_id": "858ae0a9117b4316ba66673e56f24ac6",
       "version_major": 2,
       "version_minor": 0
      },
      "text/plain": []
     },
     "metadata": {},
     "output_type": "display_data"
    },
    {
     "data": {
      "application/vnd.jupyter.widget-view+json": {
       "model_id": "ec7640021b76409a8a15a706368d10b5",
       "version_major": 2,
       "version_minor": 0
      },
      "text/plain": [
       "HBox(children=(NGLWidget(), VBox(children=(Dropdown(description='Show', options=('All', 'C', 'H', 'N'), value=…"
      ]
     },
     "execution_count": 7,
     "metadata": {},
     "output_type": "execute_result"
    }
   ],
   "source": [
    "from ase.visualize import view\n",
    "\n",
    "view(nicotine, viewer=\"ngl\")"
   ]
  },
  {
   "cell_type": "markdown",
   "id": "f53a2b81-a0c2-43d8-9ab5-715c62a3dbd9",
   "metadata": {},
   "source": [
    "## Generate each atom energy"
   ]
  },
  {
   "cell_type": "code",
   "execution_count": 9,
   "id": "1f128382-ba39-459e-845f-2660f7419757",
   "metadata": {},
   "outputs": [
    {
     "data": {
      "text/plain": [
       "-157.98018"
      ]
     },
     "execution_count": 9,
     "metadata": {},
     "output_type": "execute_result"
    }
   ],
   "source": [
    "nicotine.calc = calculator\n",
    "nicotine.get_potential_energy()"
   ]
  },
  {
   "cell_type": "markdown",
   "id": "9211deb5-ac38-43d1-a8c2-5bd060f27292",
   "metadata": {},
   "source": [
    "Now, we get \"each_atom_energy.csv\". \"energy\" column refers to the each atom energy."
   ]
  }
 ],
 "metadata": {
  "kernelspec": {
   "display_name": "Python 3 (ipykernel)",
   "language": "python",
   "name": "python3"
  },
  "language_info": {
   "codemirror_mode": {
    "name": "ipython",
    "version": 3
   },
   "file_extension": ".py",
   "mimetype": "text/x-python",
   "name": "python",
   "nbconvert_exporter": "python",
   "pygments_lexer": "ipython3",
   "version": "3.9.5"
  }
 },
 "nbformat": 4,
 "nbformat_minor": 5
}
