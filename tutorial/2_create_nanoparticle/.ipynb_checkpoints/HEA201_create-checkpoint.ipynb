{
 "cells": [
  {
   "cell_type": "markdown",
   "id": "c835cbd7-70a3-4c8e-b4c9-0c152da6d80d",
   "metadata": {},
   "source": [
    "# IrPdPtRhRu201 nano particle"
   ]
  },
  {
   "cell_type": "code",
   "execution_count": 51,
   "id": "4f7f53ba-57b5-437b-8b04-c6ea08f10e81",
   "metadata": {},
   "outputs": [],
   "source": [
    "import numpy as np\n",
    "from ase.cluster import Octahedron\n",
    "from ase import Atoms\n",
    "from ase.data import atomic_numbers\n",
    "import random"
   ]
  },
  {
   "cell_type": "markdown",
   "id": "8ddb6bc8-cde3-49ac-a554-5ef94ee93a84",
   "metadata": {},
   "source": [
    "## Create IrPdPtRhRu201 nano particle "
   ]
  },
  {
   "cell_type": "code",
   "execution_count": 52,
   "id": "5c0890b5-b29d-4a22-9815-4a863b19015d",
   "metadata": {},
   "outputs": [],
   "source": [
    "# return lattice constant, which is decided by pretrained m3gnet calculation\n",
    "def decide_init_lattice(element):\n",
    "    f = open(f'/workspace/data/bulk/{element}_base_a.txt', 'r')\n",
    "    data = f.read()\n",
    "    f.close()\n",
    "    a = float(data)\n",
    "    return a\n",
    "\n",
    "# return cell size\n",
    "def decide_cell_size(atoms, void=15):    \n",
    "    x_position = []\n",
    "    y_position = []\n",
    "    z_position = []\n",
    "    for position in atoms.positions:\n",
    "        x = position[0]\n",
    "        y = position[1]\n",
    "        z = position[2]\n",
    "        x_position.append(x)\n",
    "        y_position.append(y)\n",
    "        z_position.append(z)\n",
    "    x_interval = np.max(x_position)-np.min(x_position) + void\n",
    "    y_interval = np.max(y_position)-np.min(y_position) + void\n",
    "    z_interval = np.max(z_position)-np.min(z_position) + void\n",
    "    print(x_interval, y_interval, z_interval)\n",
    "    return np.max([x_interval, y_interval, z_interval])"
   ]
  },
  {
   "cell_type": "code",
   "execution_count": 75,
   "id": "64ba335a-d622-4ffe-ba97-6066386dc45d",
   "metadata": {},
   "outputs": [],
   "source": [
    "def make_201_hea_clusters(element_list):\n",
    "    # decide init lattice constant\n",
    "    lc_list = []\n",
    "    for element in element_list:\n",
    "        lc = decide_init_lattice(element)\n",
    "        lc_list.append(lc)\n",
    "    a = np.max(lc_list)\n",
    "\n",
    "    atoms = Octahedron(element_list[0], 7, 2, latticeconstant=a)\n",
    "    # convert into atoms type\n",
    "    nano_particle = Atoms(atoms.symbols, atoms.positions)\n",
    "\n",
    "    total_num = len(nano_particle)\n",
    "    element_num = len(element_list)\n",
    "    atom_num_per_element = int(total_num/element_num)\n",
    "    atom_num_dict = {}\n",
    "    for element in element_list:\n",
    "        atom_num_dict[element] = atom_num_per_element\n",
    "\n",
    "    rest = total_num - atom_num_per_element * element_num\n",
    "    if rest != 0:\n",
    "        element_list_copy = element_list.copy()\n",
    "        for i in range(rest):\n",
    "            random_element = random.choice(element_list_copy)\n",
    "            atom_num_dict[random_element] = atom_num_per_element + 1\n",
    "            element_list_copy.remove(random_element)\n",
    "\n",
    "    print(atom_num_dict)\n",
    "\n",
    "    id_list = []\n",
    "    for atom, num in list(atom_num_dict.items()):\n",
    "        atomic_number = atomic_numbers[atom]\n",
    "        for i in range(num):\n",
    "            id_list.append(atomic_number)\n",
    "\n",
    "    # shuffle\n",
    "    random.shuffle(id_list)\n",
    "\n",
    "    # replace atom\n",
    "    for i, atomic_num in enumerate(id_list):\n",
    "        nano_particle.numbers[i] = atomic_num\n",
    "\n",
    "    # decide cell size\n",
    "    cell_size = decide_cell_size(nano_particle)\n",
    "    nano_particle.cell = cell_size * np.identity(3)\n",
    "    nano_particle.pbc = (True, True, True)\n",
    "    nano_particle.center()\n",
    "\n",
    "    return nano_particle"
   ]
  },
  {
   "cell_type": "code",
   "execution_count": 76,
   "id": "05810e48-5269-4831-8946-e0c79687ae5d",
   "metadata": {},
   "outputs": [
    {
     "name": "stdout",
     "output_type": "stream",
     "text": [
      "{'Ir': 40, 'Pd': 41, 'Pt': 40, 'Rh': 40, 'Ru': 40}\n",
      "30.907692307692308 30.907692307692308 30.907692307692308\n"
     ]
    }
   ],
   "source": [
    "element_list = [\"Ir\", \"Pd\", \"Pt\", \"Rh\", \"Ru\"]\n",
    "hea201 = make_201_hea_clusters(element_list)"
   ]
  },
  {
   "cell_type": "code",
   "execution_count": 77,
   "id": "3c6653a7-bf0c-49ed-9334-f7ed7fd0a368",
   "metadata": {},
   "outputs": [
    {
     "data": {
      "application/vnd.jupyter.widget-view+json": {
       "model_id": "489a78dc729f449da4f379dc53f6c167",
       "version_major": 2,
       "version_minor": 0
      },
      "text/plain": [
       "HBox(children=(NGLWidget(), VBox(children=(Dropdown(description='Show', options=('All', 'Pd', 'Ir', 'Rh', 'Ru'…"
      ]
     },
     "execution_count": 77,
     "metadata": {},
     "output_type": "execute_result"
    }
   ],
   "source": [
    "from ase.visualize import view\n",
    "\n",
    "view(hea201, viewer=\"ngl\")"
   ]
  }
 ],
 "metadata": {
  "kernelspec": {
   "display_name": "Python 3 (ipykernel)",
   "language": "python",
   "name": "python3"
  },
  "language_info": {
   "codemirror_mode": {
    "name": "ipython",
    "version": 3
   },
   "file_extension": ".py",
   "mimetype": "text/x-python",
   "name": "python",
   "nbconvert_exporter": "python",
   "pygments_lexer": "ipython3",
   "version": "3.9.5"
  }
 },
 "nbformat": 4,
 "nbformat_minor": 5
}
