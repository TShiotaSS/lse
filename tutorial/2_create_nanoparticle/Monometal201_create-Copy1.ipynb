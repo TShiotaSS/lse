{
 "cells": [
  {
   "cell_type": "code",
   "execution_count": 1,
   "id": "581a432c-afd6-434c-9343-f2a7b34b2a86",
   "metadata": {},
   "outputs": [],
   "source": [
    "import numpy as np\n",
    "from ase.cluster import Octahedron\n",
    "from ase import Atoms\n",
    "from ase.data import atomic_numbers\n",
    "import random"
   ]
  },
  {
   "cell_type": "code",
   "execution_count": 2,
   "id": "c6f81f26-9f79-4a95-9234-af5752a3fd4b",
   "metadata": {},
   "outputs": [],
   "source": [
    "# return lattice constant, which is decided by pretrained m3gnet calculation\n",
    "def decide_init_lattice(element):\n",
    "    f = open(f'/workspace/data/bulk/{element}_base_a.txt', 'r')\n",
    "    data = f.read()\n",
    "    f.close()\n",
    "    a = float(data)\n",
    "    return a\n",
    "\n",
    "# return cell size\n",
    "def decide_cell_size(atoms, void=15):    \n",
    "    x_position = []\n",
    "    y_position = []\n",
    "    z_position = []\n",
    "    for position in atoms.positions:\n",
    "        x = position[0]\n",
    "        y = position[1]\n",
    "        z = position[2]\n",
    "        x_position.append(x)\n",
    "        y_position.append(y)\n",
    "        z_position.append(z)\n",
    "    x_interval = np.max(x_position)-np.min(x_position) + void\n",
    "    y_interval = np.max(y_position)-np.min(y_position) + void\n",
    "    z_interval = np.max(z_position)-np.min(z_position) + void\n",
    "    print(x_interval, y_interval, z_interval)\n",
    "    return np.max([x_interval, y_interval, z_interval])"
   ]
  },
  {
   "cell_type": "code",
   "execution_count": 51,
   "id": "f73abccb-35ed-49a7-84f1-805bf849c071",
   "metadata": {},
   "outputs": [],
   "source": [
    "def make_314_clusters(element):\n",
    "    a = decide_init_lattice(element)\n",
    "    atoms = Octahedron(element, 8, 2, latticeconstant=a)\n",
    "\n",
    "    # convert into atoms type\n",
    "    nano_particle = Atoms(atoms.symbols, atoms.positions)\n",
    "\n",
    "    # decide cell size\n",
    "    cell_size = decide_cell_size(nano_particle)\n",
    "    nano_particle.cell = cell_size * np.identity(3)\n",
    "    nano_particle.pbc = (True, True, True)\n",
    "    nano_particle.center()\n",
    "\n",
    "    return nano_particle"
   ]
  },
  {
   "cell_type": "code",
   "execution_count": 52,
   "id": "e95d08f6-5ded-4e24-b32b-974520ea7b1f",
   "metadata": {},
   "outputs": [],
   "source": [
    "def make_459_clusters(element):\n",
    "    a = decide_init_lattice(element)\n",
    "    atoms = Octahedron(element, 9, 2, latticeconstant=a)\n",
    "\n",
    "    # convert into atoms type\n",
    "    nano_particle = Atoms(atoms.symbols, atoms.positions)\n",
    "\n",
    "    # decide cell size\n",
    "    cell_size = decide_cell_size(nano_particle)\n",
    "    nano_particle.cell = cell_size * np.identity(3)\n",
    "    nano_particle.pbc = (True, True, True)\n",
    "    nano_particle.center()\n",
    "\n",
    "    return nano_particle"
   ]
  },
  {
   "cell_type": "code",
   "execution_count": 54,
   "id": "59501b7f-0cf0-4427-a351-2dfaa2686a27",
   "metadata": {},
   "outputs": [
    {
     "name": "stdout",
     "output_type": "stream",
     "text": [
      "34.88461538461539 34.88461538461539 34.88461538461539\n"
     ]
    },
    {
     "data": {
      "text/plain": [
       "314"
      ]
     },
     "execution_count": 54,
     "metadata": {},
     "output_type": "execute_result"
    }
   ],
   "source": [
    "Pt314 = make_314_clusters(\"Pt\")\n",
    "len(Pt314)"
   ]
  },
  {
   "cell_type": "code",
   "execution_count": 56,
   "id": "3486697e-fb87-413f-9258-56fb2488fda9",
   "metadata": {},
   "outputs": [
    {
     "data": {
      "application/vnd.jupyter.widget-view+json": {
       "model_id": "24e1080a252a444189488a03af4955f4",
       "version_major": 2,
       "version_minor": 0
      },
      "text/plain": [
       "HBox(children=(NGLWidget(), VBox(children=(Dropdown(description='Show', options=('All', 'Pt'), value='All'), D…"
      ]
     },
     "execution_count": 56,
     "metadata": {},
     "output_type": "execute_result"
    }
   ],
   "source": [
    "from ase.visualize import view\n",
    "view(Pt314, viewer=\"ngl\")"
   ]
  },
  {
   "cell_type": "code",
   "execution_count": 59,
   "id": "84a11c65-7ba7-46d1-ba65-68ffe303d1f2",
   "metadata": {},
   "outputs": [
    {
     "name": "stdout",
     "output_type": "stream",
     "text": [
      "38.86153846153846 38.86153846153846 38.86153846153846\n"
     ]
    },
    {
     "data": {
      "text/plain": [
       "459"
      ]
     },
     "execution_count": 59,
     "metadata": {},
     "output_type": "execute_result"
    }
   ],
   "source": [
    "Pt459 = make_459_clusters(\"Pt\")\n",
    "len(Pt459)"
   ]
  },
  {
   "cell_type": "code",
   "execution_count": 60,
   "id": "2e80732a-9698-4c5b-a8c0-37c1bd238587",
   "metadata": {},
   "outputs": [
    {
     "data": {
      "application/vnd.jupyter.widget-view+json": {
       "model_id": "44726778ce174e5b8b162e1a964205b6",
       "version_major": 2,
       "version_minor": 0
      },
      "text/plain": [
       "HBox(children=(NGLWidget(), VBox(children=(Dropdown(description='Show', options=('All', 'Pt'), value='All'), D…"
      ]
     },
     "execution_count": 60,
     "metadata": {},
     "output_type": "execute_result"
    }
   ],
   "source": [
    "from ase.visualize import view\n",
    "view(Pt459, viewer=\"ngl\")"
   ]
  },
  {
   "cell_type": "code",
   "execution_count": null,
   "id": "7ed6fb82-a482-43b7-8efe-1f93ddecacbe",
   "metadata": {},
   "outputs": [],
   "source": []
  },
  {
   "cell_type": "code",
   "execution_count": null,
   "id": "13147646-e768-420c-9d03-63a94ddecc3c",
   "metadata": {},
   "outputs": [],
   "source": []
  }
 ],
 "metadata": {
  "kernelspec": {
   "display_name": "Python 3 (ipykernel)",
   "language": "python",
   "name": "python3"
  },
  "language_info": {
   "codemirror_mode": {
    "name": "ipython",
    "version": 3
   },
   "file_extension": ".py",
   "mimetype": "text/x-python",
   "name": "python",
   "nbconvert_exporter": "python",
   "pygments_lexer": "ipython3",
   "version": "3.9.5"
  }
 },
 "nbformat": 4,
 "nbformat_minor": 5
}
