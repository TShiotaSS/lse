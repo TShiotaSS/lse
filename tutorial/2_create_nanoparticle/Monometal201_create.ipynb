{
 "cells": [
  {
   "cell_type": "code",
   "execution_count": 33,
   "id": "581a432c-afd6-434c-9343-f2a7b34b2a86",
   "metadata": {},
   "outputs": [],
   "source": [
    "import numpy as np\n",
    "from ase.cluster import Octahedron\n",
    "from ase import Atoms\n",
    "from ase.data import atomic_numbers\n",
    "import random"
   ]
  },
  {
   "cell_type": "code",
   "execution_count": 34,
   "id": "c6f81f26-9f79-4a95-9234-af5752a3fd4b",
   "metadata": {},
   "outputs": [],
   "source": [
    "# return lattice constant, which is decided by pretrained m3gnet calculation\n",
    "def decide_init_lattice(element):\n",
    "    f = open(f'/workspace/data/bulk/{element}_base_a.txt', 'r')\n",
    "    data = f.read()\n",
    "    f.close()\n",
    "    a = float(data)\n",
    "    return a\n",
    "\n",
    "# return cell size\n",
    "def decide_cell_size(atoms, void=15):    \n",
    "    x_position = []\n",
    "    y_position = []\n",
    "    z_position = []\n",
    "    for position in atoms.positions:\n",
    "        x = position[0]\n",
    "        y = position[1]\n",
    "        z = position[2]\n",
    "        x_position.append(x)\n",
    "        y_position.append(y)\n",
    "        z_position.append(z)\n",
    "    x_interval = np.max(x_position)-np.min(x_position) + void\n",
    "    y_interval = np.max(y_position)-np.min(y_position) + void\n",
    "    z_interval = np.max(z_position)-np.min(z_position) + void\n",
    "    print(x_interval, y_interval, z_interval)\n",
    "    return np.max([x_interval, y_interval, z_interval])"
   ]
  },
  {
   "cell_type": "code",
   "execution_count": 35,
   "id": "f73abccb-35ed-49a7-84f1-805bf849c071",
   "metadata": {},
   "outputs": [],
   "source": [
    "def make_201_clusters(element):\n",
    "    a = decide_init_lattice(element)\n",
    "    atoms = Octahedron(element, 7, 2, latticeconstant=a)\n",
    "\n",
    "    # convert into atoms type\n",
    "    nano_particle = Atoms(atoms.symbols, atoms.positions)\n",
    "\n",
    "    # decide cell size\n",
    "    cell_size = decide_cell_size(nano_particle)\n",
    "    nano_particle.cell = cell_size * np.identity(3)\n",
    "    nano_particle.pbc = (True, True, True)\n",
    "    nano_particle.center()\n",
    "\n",
    "    return nano_particle"
   ]
  },
  {
   "cell_type": "code",
   "execution_count": 36,
   "id": "59501b7f-0cf0-4427-a351-2dfaa2686a27",
   "metadata": {},
   "outputs": [
    {
     "name": "stdout",
     "output_type": "stream",
     "text": [
      "30.907692307692308 30.907692307692308 30.907692307692308\n"
     ]
    }
   ],
   "source": [
    "Pt201 = make_201_clusters(\"Pt\")"
   ]
  },
  {
   "cell_type": "code",
   "execution_count": 37,
   "id": "2e80732a-9698-4c5b-a8c0-37c1bd238587",
   "metadata": {},
   "outputs": [
    {
     "data": {
      "application/vnd.jupyter.widget-view+json": {
       "model_id": "4b1910a26e02408398037a1bf0507699",
       "version_major": 2,
       "version_minor": 0
      },
      "text/plain": [
       "HBox(children=(NGLWidget(), VBox(children=(Dropdown(description='Show', options=('All', 'Pt'), value='All'), D…"
      ]
     },
     "execution_count": 37,
     "metadata": {},
     "output_type": "execute_result"
    }
   ],
   "source": [
    "from ase.visualize import view\n",
    "\n",
    "view(Pt201, viewer=\"ngl\")"
   ]
  }
 ],
 "metadata": {
  "kernelspec": {
   "display_name": "Python 3 (ipykernel)",
   "language": "python",
   "name": "python3"
  },
  "language_info": {
   "codemirror_mode": {
    "name": "ipython",
    "version": 3
   },
   "file_extension": ".py",
   "mimetype": "text/x-python",
   "name": "python",
   "nbconvert_exporter": "python",
   "pygments_lexer": "ipython3",
   "version": "3.9.5"
  }
 },
 "nbformat": 4,
 "nbformat_minor": 5
}
